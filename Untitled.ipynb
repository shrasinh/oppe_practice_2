{
 "cells": [
  {
   "cell_type": "code",
   "execution_count": 1,
   "id": "1d7a79a7-6890-449c-bd5d-8ede90c10856",
   "metadata": {
    "tags": []
   },
   "outputs": [
    {
     "name": "stdout",
     "output_type": "stream",
     "text": [
      "Installed kernelspec mlops in /home/jupyter/.local/share/jupyter/kernels/mlops\n"
     ]
    }
   ],
   "source": [
    "%%bash\n",
    "# Install Jupyter kernel in the virtual environment\n",
    "source .env/bin/activate \n",
    "uv pip install ipykernel -q\n",
    "\n",
    "# Install custom kernel\n",
    "python -m ipykernel install --user --name=mlops --display-name=\"Python (mlops)\""
   ]
  },
  {
   "cell_type": "code",
   "execution_count": 1,
   "id": "f8daf90c-323d-4905-b65b-378cbef58a4c",
   "metadata": {
    "tags": []
   },
   "outputs": [
    {
     "name": "stdout",
     "output_type": "stream",
     "text": [
      "Root Mean Squared Error (RMSE): 70,031.49\n",
      "R² Score: 0.6257\n",
      "\n",
      "Sample Predictions:\n",
      "Actual: 47,700.00, Predicted: 64,693.83\n",
      "Actual: 45,800.00, Predicted: 134,863.72\n",
      "Actual: 500,001.00, Predicted: 266,127.76\n",
      "Actual: 218,600.00, Predicted: 278,640.81\n",
      "Actual: 278,000.00, Predicted: 273,407.81\n",
      "Actual: 158,700.00, Predicted: 150,244.68\n",
      "Actual: 198,200.00, Predicted: 301,303.80\n",
      "Actual: 157,500.00, Predicted: 238,903.26\n",
      "Actual: 340,000.00, Predicted: 267,145.16\n",
      "Actual: 446,600.00, Predicted: 418,562.24\n",
      "\n",
      "✅ Model saved as 'california_housing_model.joblib'\n",
      "✅ Coefficients saved to 'model_coefficients.csv'\n",
      "✅ Intercept saved to 'model_intercept.txt'\n",
      "✅ Evaluation metrics saved to 'evaluation_metrics.json'\n"
     ]
    }
   ],
   "source": [
    "import pandas as pd\n",
    "from sklearn.model_selection import train_test_split\n",
    "from sklearn.preprocessing import OneHotEncoder\n",
    "from sklearn.impute import SimpleImputer\n",
    "from sklearn.linear_model import LinearRegression\n",
    "from sklearn.pipeline import Pipeline\n",
    "from sklearn.compose import ColumnTransformer\n",
    "from sklearn.metrics import mean_squared_error, r2_score, mean_absolute_error\n",
    "import joblib\n",
    "import numpy as np\n",
    "import json\n",
    "\n",
    "\n",
    "# Load dataset\n",
    "df = pd.read_csv(\"data/housing.csv\")\n",
    "\n",
    "# Separate features and target\n",
    "X = df.drop(\"median_house_value\", axis=1)\n",
    "y = df[\"median_house_value\"]\n",
    "\n",
    "# Define feature types\n",
    "numeric_features = [\n",
    "    \"longitude\", \"latitude\", \"housing_median_age\", \"total_rooms\", \n",
    "    \"total_bedrooms\", \"population\", \"households\", \"median_income\"\n",
    "]\n",
    "categorical_features = [\"ocean_proximity\"]\n",
    "\n",
    "# Preprocessing pipelines\n",
    "numeric_transformer = Pipeline(steps=[\n",
    "    (\"imputer\", SimpleImputer(strategy=\"mean\"))\n",
    "])\n",
    "\n",
    "categorical_transformer = Pipeline(steps=[\n",
    "    (\"encoder\", OneHotEncoder(handle_unknown=\"ignore\"))\n",
    "])\n",
    "\n",
    "preprocessor = ColumnTransformer(transformers=[\n",
    "    (\"num\", numeric_transformer, numeric_features),\n",
    "    (\"cat\", categorical_transformer, categorical_features)\n",
    "])\n",
    "\n",
    "# Full pipeline\n",
    "pipeline = Pipeline(steps=[\n",
    "    (\"preprocessor\", preprocessor),\n",
    "    (\"regressor\", LinearRegression())\n",
    "])\n",
    "\n",
    "# Split data\n",
    "X_train, X_test, y_train, y_test = train_test_split(X, y, test_size=0.2, random_state=42)\n",
    "\n",
    "# Train model\n",
    "pipeline.fit(X_train, y_train)\n",
    "\n",
    "# Predict\n",
    "y_pred = pipeline.predict(X_test)\n",
    "\n",
    "# Evaluation metrics\n",
    "rmse = np.sqrt(mean_squared_error(y_test, y_pred))\n",
    "r2 = r2_score(y_test, y_pred)\n",
    "mae = mean_absolute_error(y_test, y_pred)\n",
    "\n",
    "print(f\"Root Mean Squared Error (RMSE): {rmse:,.2f}\")\n",
    "print(f\"R² Score: {r2:.4f}\")\n",
    "\n",
    "# Show a few actual vs predicted values\n",
    "print(\"\\nSample Predictions:\")\n",
    "for actual, pred in zip(y_test[:10], y_pred[:10]):\n",
    "    print(f\"Actual: {actual:,.2f}, Predicted: {pred:,.2f}\")\n",
    "\n",
    "# Save the model\n",
    "joblib.dump(pipeline, \"artifacts/california_housing_model.joblib\")\n",
    "print(\"\\n✅ Model saved as 'california_housing_model.joblib'\")\n",
    "\n",
    "# Extract model and features\n",
    "lr_model = pipeline.named_steps[\"regressor\"]\n",
    "feature_names = pipeline.named_steps[\"preprocessor\"].get_feature_names_out()\n",
    "\n",
    "# 1. Save coefficients to CSV\n",
    "coef_df = pd.DataFrame({\n",
    "    \"feature\": feature_names,\n",
    "    \"coefficient\": lr_model.coef_\n",
    "})\n",
    "coef_df.to_csv(\"artifacts/model_coefficients.csv\", index=False)\n",
    "print(\"✅ Coefficients saved to 'model_coefficients.csv'\")\n",
    "\n",
    "# 2. Save intercept to TXT\n",
    "with open(\"artifacts/model_intercept.txt\", \"w\") as f:\n",
    "    f.write(f\"Intercept: {lr_model.intercept_:.6f}\\n\")\n",
    "print(\"✅ Intercept saved to 'model_intercept.txt'\")\n",
    "\n",
    "# 3. Save metrics to JSON\n",
    "metrics = {\n",
    "    \"RMSE\": round(rmse, 2),\n",
    "    \"MAE\": round(mae, 2),\n",
    "    \"R2\": round(r2, 4)\n",
    "}\n",
    "\n",
    "with open(\"artifacts/evaluation_metrics.json\", \"w\") as f:\n",
    "    json.dump(metrics, f, indent=4)\n",
    "\n",
    "print(\"✅ Evaluation metrics saved to 'evaluation_metrics.json'\")"
   ]
  },
  {
   "cell_type": "code",
   "execution_count": 4,
   "id": "4f36175e-638b-4105-9617-ee62bd54c8cf",
   "metadata": {
    "tags": []
   },
   "outputs": [
    {
     "name": "stdout",
     "output_type": "stream",
     "text": [
      "<class 'pandas.core.frame.DataFrame'>\n",
      "RangeIndex: 20640 entries, 0 to 20639\n",
      "Data columns (total 10 columns):\n",
      " #   Column              Non-Null Count  Dtype  \n",
      "---  ------              --------------  -----  \n",
      " 0   longitude           20640 non-null  float64\n",
      " 1   latitude            20640 non-null  float64\n",
      " 2   housing_median_age  20640 non-null  float64\n",
      " 3   total_rooms         20640 non-null  float64\n",
      " 4   total_bedrooms      20433 non-null  float64\n",
      " 5   population          20640 non-null  float64\n",
      " 6   households          20640 non-null  float64\n",
      " 7   median_income       20640 non-null  float64\n",
      " 8   median_house_value  20640 non-null  float64\n",
      " 9   ocean_proximity     20640 non-null  object \n",
      "dtypes: float64(9), object(1)\n",
      "memory usage: 1.6+ MB\n"
     ]
    }
   ],
   "source": [
    "df.info()"
   ]
  },
  {
   "cell_type": "code",
   "execution_count": null,
   "id": "f1bca9e6-6ace-4ce0-a517-9894389b3d51",
   "metadata": {},
   "outputs": [],
   "source": [
    "# kubernetes, logging, data poisoning, explanation\n",
    "curl -X POST http://localhost:8000/predict \\\n",
    "    -H \"Content-Type: application/json\" \\\n",
    "    -d '{\n",
    "        \"latitude\": 37.5,\n",
    "        \"housing_median_age\": 20.0,\n",
    "        \"total_bedrooms\": 500.0,\n",
    "        \"population\": 1500.0,\n",
    "        \"households\": 400.0,\n",
    "        \"median_income\": 3.5,\n",
    "        \"median_house_value\": 250000.0,\n",
    "        \"ocean_proximity\": 1.0\n",
    "    }' \\\n",
    "    -v\n"
   ]
  }
 ],
 "metadata": {
  "environment": {
   "kernel": "mlops",
   "name": "workbench-notebooks.m131",
   "type": "gcloud",
   "uri": "us-docker.pkg.dev/deeplearning-platform-release/gcr.io/workbench-notebooks:m131"
  },
  "kernelspec": {
   "display_name": "Python (mlops)",
   "language": "python",
   "name": "mlops"
  },
  "language_info": {
   "codemirror_mode": {
    "name": "ipython",
    "version": 3
   },
   "file_extension": ".py",
   "mimetype": "text/x-python",
   "name": "python",
   "nbconvert_exporter": "python",
   "pygments_lexer": "ipython3",
   "version": "3.12.11"
  }
 },
 "nbformat": 4,
 "nbformat_minor": 5
}
